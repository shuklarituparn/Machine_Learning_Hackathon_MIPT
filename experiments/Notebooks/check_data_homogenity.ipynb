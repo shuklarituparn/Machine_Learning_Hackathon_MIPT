{
 "cells": [
  {
   "cell_type": "code",
   "execution_count": 85,
   "id": "98178eb6-3695-4ab6-8fc8-fdd800c22efb",
   "metadata": {},
   "outputs": [],
   "source": [
    "import pandas as pd\n",
    "import matplotlib.pyplot as plt\n",
    "import numpy as np\n",
    "\n",
    "from datasets import load_dataset"
   ]
  },
  {
   "cell_type": "markdown",
   "id": "d5490311-9a2b-4db0-b99d-4d0cb5b3562a",
   "metadata": {},
   "source": [
    "### Miracl"
   ]
  },
  {
   "cell_type": "code",
   "execution_count": 86,
   "id": "4d51c8fa-b1c1-4a61-810a-19bfd3545a54",
   "metadata": {},
   "outputs": [],
   "source": [
    "ds = load_dataset(\"Cohere/miracl-ru-queries-22-12\")\n",
    "\n",
    "train = ds[\"train\"]\n",
    "dev = ds[\"dev\"]\n",
    "\n",
    "train_queries = train[\"query\"]\n",
    "train_positive_passages = train[\"positive_passages\"]\n",
    "train_negative_passages = train[\"negative_passages\"]"
   ]
  },
  {
   "cell_type": "code",
   "execution_count": 87,
   "id": "bad73721-4254-4fd3-9d0b-0dc3488b81d6",
   "metadata": {},
   "outputs": [],
   "source": [
    "train_df = pd.DataFrame(columns=['question', 'answer', 'isRelevant'])"
   ]
  },
  {
   "cell_type": "code",
   "execution_count": 88,
   "id": "514ec095-6d80-47a7-8035-45e380840e30",
   "metadata": {},
   "outputs": [],
   "source": [
    "for i in range(len(train_queries)):\n",
    "    positive_answers = [x[\"text\"] for x in train_positive_passages[i]]\n",
    "    negative_answers = [x[\"text\"] for x in train_negative_passages[i]]\n",
    "\n",
    "    positive_data = pd.DataFrame({\n",
    "        'question': [train_queries[i]] * len(positive_answers),\n",
    "        'answer': positive_answers,\n",
    "        'isRelevant': [1] * len(positive_answers)\n",
    "    })\n",
    "\n",
    "    negative_data = pd.DataFrame({\n",
    "        'question': [train_queries[i]] * len(negative_answers),\n",
    "        'answer': negative_answers,\n",
    "        'isRelevant': [0] * len(negative_answers)\n",
    "    })\n",
    "\n",
    "    train_df = pd.concat([train_df, positive_data, negative_data], ignore_index=True)"
   ]
  },
  {
   "cell_type": "code",
   "execution_count": 89,
   "id": "72390c23-fcff-4e84-a014-d291e5a87be3",
   "metadata": {},
   "outputs": [],
   "source": [
    "val_positive_passages = dev[\"positive_passages\"]\n",
    "val_negative_passages = dev[\"negative_passages\"]\n",
    "val_queries = dev[\"query\"]\n",
    "m = len(val_queries)\n",
    "val_df = pd.DataFrame(columns=['question', 'answer', 'isRelevant'])\n",
    "for i in range(m):\n",
    "    positive_answers = [x[\"text\"] for x in val_positive_passages[i]]\n",
    "    negative_answers = [x[\"text\"] for x in val_negative_passages[i]]\n",
    "\n",
    "    positive_data = pd.DataFrame({\n",
    "        'question': [val_queries[i]] * len(positive_answers),\n",
    "        'answer': positive_answers,\n",
    "        'isRelevant': [1] * len(positive_answers)\n",
    "    })\n",
    "\n",
    "    negative_data = pd.DataFrame({\n",
    "        'question': [val_queries[i]] * len(negative_answers),\n",
    "        'answer': negative_answers,\n",
    "        'isRelevant': [0] * len(negative_answers)\n",
    "    })\n",
    "    val_df = pd.concat([val_df, positive_data, negative_data], ignore_index=True)"
   ]
  },
  {
   "cell_type": "code",
   "execution_count": 90,
   "id": "7c19f04a-c85d-4be4-a23e-b941b803fcb0",
   "metadata": {},
   "outputs": [
    {
     "data": {
      "text/plain": [
       "isRelevant\n",
       "0    23921\n",
       "1    10000\n",
       "Name: count, dtype: int64"
      ]
     },
     "execution_count": 90,
     "metadata": {},
     "output_type": "execute_result"
    }
   ],
   "source": [
    "train_df[\"isRelevant\"].value_counts()"
   ]
  },
  {
   "cell_type": "code",
   "execution_count": 91,
   "id": "0429cf90-f958-431e-8845-237a6a201e5e",
   "metadata": {},
   "outputs": [
    {
     "data": {
      "text/plain": [
       "((33921, 3), (13100, 3))"
      ]
     },
     "execution_count": 91,
     "metadata": {},
     "output_type": "execute_result"
    }
   ],
   "source": [
    "train_df.shape, val_df.shape"
   ]
  },
  {
   "cell_type": "code",
   "execution_count": null,
   "id": "31b57086-6204-40b9-8219-10530bf347a7",
   "metadata": {},
   "outputs": [],
   "source": []
  },
  {
   "cell_type": "code",
   "execution_count": null,
   "id": "d42b17d7-e3cc-42b0-8771-7857b5d6c782",
   "metadata": {},
   "outputs": [],
   "source": [
    "\n",
    "\n",
    "\n"
   ]
  },
  {
   "cell_type": "markdown",
   "id": "3bfc8e5c-251e-4c95-9ddc-ae60dd514272",
   "metadata": {},
   "source": [
    "### YandexQ"
   ]
  },
  {
   "cell_type": "code",
   "execution_count": 92,
   "id": "ef688c63-c9b8-4fe6-a39f-9bdbb1a6fda3",
   "metadata": {},
   "outputs": [],
   "source": [
    "path_to_jsonl = \"dataset.jsonl\""
   ]
  },
  {
   "cell_type": "code",
   "execution_count": 93,
   "id": "ec6ce922-c7bd-4483-b3a1-fc7d47f198b5",
   "metadata": {},
   "outputs": [],
   "source": [
    "import json\n",
    "\n",
    "data = []\n",
    "c = 0\n",
    "with open(path_to_jsonl, 'r', encoding='utf-8') as f:\n",
    "    for line in f:\n",
    "        data.append(json.loads(line))\n",
    "\n",
    "data = [d for d in data if len(d[\"answer\"]) > 300]\n",
    "for d in data:\n",
    "    d[\"question\"] = d[\"question\"].replace(\"\\n\", \"\")\n",
    "    d[\"answer\"] = d[\"answer\"].replace(\"\\n\", \"\")"
   ]
  },
  {
   "cell_type": "code",
   "execution_count": 94,
   "id": "14dd09b8-ddbc-4c63-a92a-e74778ede1e2",
   "metadata": {},
   "outputs": [],
   "source": [
    "yandexq_df = pd.DataFrame()\n",
    "yandexq_df[\"question\"] = [d[\"question\"] for d in data]\n",
    "yandexq_df[\"answer\"] = [d[\"answer\"] for d in data]\n",
    "yandexq_df[\"isRelevant\"] = [1 for d in data]"
   ]
  },
  {
   "cell_type": "code",
   "execution_count": 95,
   "id": "efc69837-148c-46b8-9484-0408d59395c2",
   "metadata": {},
   "outputs": [
    {
     "name": "stdout",
     "output_type": "stream",
     "text": [
      "(414233, 3)\n"
     ]
    },
    {
     "data": {
      "text/html": [
       "<div>\n",
       "<style scoped>\n",
       "    .dataframe tbody tr th:only-of-type {\n",
       "        vertical-align: middle;\n",
       "    }\n",
       "\n",
       "    .dataframe tbody tr th {\n",
       "        vertical-align: top;\n",
       "    }\n",
       "\n",
       "    .dataframe thead th {\n",
       "        text-align: right;\n",
       "    }\n",
       "</style>\n",
       "<table border=\"1\" class=\"dataframe\">\n",
       "  <thead>\n",
       "    <tr style=\"text-align: right;\">\n",
       "      <th></th>\n",
       "      <th>question</th>\n",
       "      <th>answer</th>\n",
       "      <th>isRelevant</th>\n",
       "    </tr>\n",
       "  </thead>\n",
       "  <tbody>\n",
       "    <tr>\n",
       "      <th>0</th>\n",
       "      <td>Почему у ноутбука очень часто включается венти...</td>\n",
       "      <td>Если у вас открыто 20 вкладок это особо не наг...</td>\n",
       "      <td>1</td>\n",
       "    </tr>\n",
       "    <tr>\n",
       "      <th>1</th>\n",
       "      <td>Как снять заднее сиденье на \"Киа Рио Х Лайн\"?</td>\n",
       "      <td>Необходимость в этой операции обычно возникает...</td>\n",
       "      <td>1</td>\n",
       "    </tr>\n",
       "    <tr>\n",
       "      <th>2</th>\n",
       "      <td>Может ли бес заставлять молиться?</td>\n",
       "      <td>И может, и активно так поступает. Это одна из ...</td>\n",
       "      <td>1</td>\n",
       "    </tr>\n",
       "    <tr>\n",
       "      <th>3</th>\n",
       "      <td>Где найти работу для фрилансера в 13 лет?</td>\n",
       "      <td>Вы не поверите — на фриланс-биржах. В своё вре...</td>\n",
       "      <td>1</td>\n",
       "    </tr>\n",
       "    <tr>\n",
       "      <th>4</th>\n",
       "      <td>Почему правильнее говорить \"гомосексуалы\", а н...</td>\n",
       "      <td>Суффикс -ист- несёт в себе значение человека с...</td>\n",
       "      <td>1</td>\n",
       "    </tr>\n",
       "  </tbody>\n",
       "</table>\n",
       "</div>"
      ],
      "text/plain": [
       "                                            question  \\\n",
       "0  Почему у ноутбука очень часто включается венти...   \n",
       "1      Как снять заднее сиденье на \"Киа Рио Х Лайн\"?   \n",
       "2                  Может ли бес заставлять молиться?   \n",
       "3          Где найти работу для фрилансера в 13 лет?   \n",
       "4  Почему правильнее говорить \"гомосексуалы\", а н...   \n",
       "\n",
       "                                              answer  isRelevant  \n",
       "0  Если у вас открыто 20 вкладок это особо не наг...           1  \n",
       "1  Необходимость в этой операции обычно возникает...           1  \n",
       "2  И может, и активно так поступает. Это одна из ...           1  \n",
       "3  Вы не поверите — на фриланс-биржах. В своё вре...           1  \n",
       "4  Суффикс -ист- несёт в себе значение человека с...           1  "
      ]
     },
     "execution_count": 95,
     "metadata": {},
     "output_type": "execute_result"
    }
   ],
   "source": [
    "print(yandexq_df.shape)\n",
    "yandexq_df.head()"
   ]
  },
  {
   "cell_type": "code",
   "execution_count": null,
   "id": "37c0f2c4-9141-4ca4-834f-9e1cd348fdfe",
   "metadata": {},
   "outputs": [],
   "source": [
    "\n",
    "\n",
    "\n",
    "\n",
    "\n",
    "\n"
   ]
  },
  {
   "cell_type": "code",
   "execution_count": 96,
   "id": "3b15b9eb-ad8e-42f1-9c52-168840e72a13",
   "metadata": {},
   "outputs": [],
   "source": [
    "train_df['question_length'] = train_df['question'].apply(len)\n",
    "train_df['answer_length'] = train_df['answer'].apply(len)\n",
    "yandexq_df['question_length'] = yandexq_df['question'].apply(len)\n",
    "yandexq_df['answer_length'] = yandexq_df['answer'].apply(len)"
   ]
  },
  {
   "cell_type": "code",
   "execution_count": 97,
   "id": "7dbd863b-ac04-46c1-bdd0-f6d021a9d0f2",
   "metadata": {},
   "outputs": [
    {
     "data": {
      "image/png": "[encoded data removed]",
      "text/plain": [
       "<Figure size 1000x600 with 1 Axes>"
      ]
     },
     "metadata": {},
     "output_type": "display_data"
    }
   ],
   "source": [
    "plt.figure(figsize=(10, 6))\n",
    "\n",
    "plt.hist(train_df['question_length'], bins=10, alpha=0.5, label='train_df', color='blue')\n",
    "\n",
    "plt.hist(yandexq_df['question_length'], bins=10, alpha=0.5, label='yandexq_df', color='orange')\n",
    "\n",
    "plt.title('Сравнение длин вопросов')\n",
    "plt.xlabel('Длина вопроса')\n",
    "plt.ylabel('Частота')\n",
    "plt.legend()\n",
    "\n",
    "plt.show()"
   ]
  },
  {
   "cell_type": "code",
   "execution_count": 98,
   "id": "d533708f-ad84-4089-ac06-cea22bfc5541",
   "metadata": {},
   "outputs": [],
   "source": [
    "yandexq_df = yandexq_df[yandexq_df[\"answer_length\"] < 10000]"
   ]
  },
  {
   "cell_type": "code",
   "execution_count": 99,
   "id": "93844fc6-ee09-417d-933c-7fd2286d614f",
   "metadata": {},
   "outputs": [
    {
     "data": {
      "image/png": "[encoded data removed]",
      "text/plain": [
       "<Figure size 1000x600 with 1 Axes>"
      ]
     },
     "metadata": {},
     "output_type": "display_data"
    }
   ],
   "source": [
    "plt.figure(figsize=(10, 6))\n",
    "\n",
    "plt.hist(train_df['answer_length'], bins=10, alpha=0.5, label='train_df', color='blue')\n",
    "\n",
    "plt.hist(yandexq_df['answer_length'], bins=10, alpha=0.5, label='yandexq_df', color='orange')\n",
    "\n",
    "plt.title('Сравнение длин ответов')\n",
    "plt.xlabel('Длина ответа')\n",
    "plt.ylabel('Частота')\n",
    "plt.legend()\n",
    "\n",
    "plt.show()"
   ]
  },
  {
   "cell_type": "code",
   "execution_count": 100,
   "id": "d0fe286b-8d50-4ef3-9fec-c414573cbaa3",
   "metadata": {},
   "outputs": [
    {
     "data": {
      "text/html": [
       "<div>\n",
       "<style scoped>\n",
       "    .dataframe tbody tr th:only-of-type {\n",
       "        vertical-align: middle;\n",
       "    }\n",
       "\n",
       "    .dataframe tbody tr th {\n",
       "        vertical-align: top;\n",
       "    }\n",
       "\n",
       "    .dataframe thead th {\n",
       "        text-align: right;\n",
       "    }\n",
       "</style>\n",
       "<table border=\"1\" class=\"dataframe\">\n",
       "  <thead>\n",
       "    <tr style=\"text-align: right;\">\n",
       "      <th></th>\n",
       "      <th>question_length</th>\n",
       "      <th>answer_length</th>\n",
       "    </tr>\n",
       "  </thead>\n",
       "  <tbody>\n",
       "    <tr>\n",
       "      <th>count</th>\n",
       "      <td>33921.000000</td>\n",
       "      <td>33921.000000</td>\n",
       "    </tr>\n",
       "    <tr>\n",
       "      <th>mean</th>\n",
       "      <td>44.564459</td>\n",
       "      <td>726.279178</td>\n",
       "    </tr>\n",
       "    <tr>\n",
       "      <th>std</th>\n",
       "      <td>16.372443</td>\n",
       "      <td>450.678756</td>\n",
       "    </tr>\n",
       "    <tr>\n",
       "      <th>min</th>\n",
       "      <td>14.000000</td>\n",
       "      <td>7.000000</td>\n",
       "    </tr>\n",
       "    <tr>\n",
       "      <th>25%</th>\n",
       "      <td>33.000000</td>\n",
       "      <td>423.000000</td>\n",
       "    </tr>\n",
       "    <tr>\n",
       "      <th>50%</th>\n",
       "      <td>42.000000</td>\n",
       "      <td>642.000000</td>\n",
       "    </tr>\n",
       "    <tr>\n",
       "      <th>75%</th>\n",
       "      <td>52.000000</td>\n",
       "      <td>916.000000</td>\n",
       "    </tr>\n",
       "    <tr>\n",
       "      <th>max</th>\n",
       "      <td>184.000000</td>\n",
       "      <td>9461.000000</td>\n",
       "    </tr>\n",
       "  </tbody>\n",
       "</table>\n",
       "</div>"
      ],
      "text/plain": [
       "       question_length  answer_length\n",
       "count     33921.000000   33921.000000\n",
       "mean         44.564459     726.279178\n",
       "std          16.372443     450.678756\n",
       "min          14.000000       7.000000\n",
       "25%          33.000000     423.000000\n",
       "50%          42.000000     642.000000\n",
       "75%          52.000000     916.000000\n",
       "max         184.000000    9461.000000"
      ]
     },
     "execution_count": 100,
     "metadata": {},
     "output_type": "execute_result"
    }
   ],
   "source": [
    "train_df.describe()"
   ]
  },
  {
   "cell_type": "code",
   "execution_count": 101,
   "id": "a17544a4-79ce-4b42-801c-fbcd42f9e6ca",
   "metadata": {},
   "outputs": [
    {
     "data": {
      "text/html": [
       "<div>\n",
       "<style scoped>\n",
       "    .dataframe tbody tr th:only-of-type {\n",
       "        vertical-align: middle;\n",
       "    }\n",
       "\n",
       "    .dataframe tbody tr th {\n",
       "        vertical-align: top;\n",
       "    }\n",
       "\n",
       "    .dataframe thead th {\n",
       "        text-align: right;\n",
       "    }\n",
       "</style>\n",
       "<table border=\"1\" class=\"dataframe\">\n",
       "  <thead>\n",
       "    <tr style=\"text-align: right;\">\n",
       "      <th></th>\n",
       "      <th>isRelevant</th>\n",
       "      <th>question_length</th>\n",
       "      <th>answer_length</th>\n",
       "    </tr>\n",
       "  </thead>\n",
       "  <tbody>\n",
       "    <tr>\n",
       "      <th>count</th>\n",
       "      <td>413674.0</td>\n",
       "      <td>413674.000000</td>\n",
       "      <td>413674.000000</td>\n",
       "    </tr>\n",
       "    <tr>\n",
       "      <th>mean</th>\n",
       "      <td>1.0</td>\n",
       "      <td>77.999398</td>\n",
       "      <td>912.539497</td>\n",
       "    </tr>\n",
       "    <tr>\n",
       "      <th>std</th>\n",
       "      <td>0.0</td>\n",
       "      <td>36.836600</td>\n",
       "      <td>849.627447</td>\n",
       "    </tr>\n",
       "    <tr>\n",
       "      <th>min</th>\n",
       "      <td>1.0</td>\n",
       "      <td>1.000000</td>\n",
       "      <td>285.000000</td>\n",
       "    </tr>\n",
       "    <tr>\n",
       "      <th>25%</th>\n",
       "      <td>1.0</td>\n",
       "      <td>48.000000</td>\n",
       "      <td>428.000000</td>\n",
       "    </tr>\n",
       "    <tr>\n",
       "      <th>50%</th>\n",
       "      <td>1.0</td>\n",
       "      <td>71.000000</td>\n",
       "      <td>632.000000</td>\n",
       "    </tr>\n",
       "    <tr>\n",
       "      <th>75%</th>\n",
       "      <td>1.0</td>\n",
       "      <td>106.000000</td>\n",
       "      <td>1049.000000</td>\n",
       "    </tr>\n",
       "    <tr>\n",
       "      <th>max</th>\n",
       "      <td>1.0</td>\n",
       "      <td>270.000000</td>\n",
       "      <td>9996.000000</td>\n",
       "    </tr>\n",
       "  </tbody>\n",
       "</table>\n",
       "</div>"
      ],
      "text/plain": [
       "       isRelevant  question_length  answer_length\n",
       "count    413674.0    413674.000000  413674.000000\n",
       "mean          1.0        77.999398     912.539497\n",
       "std           0.0        36.836600     849.627447\n",
       "min           1.0         1.000000     285.000000\n",
       "25%           1.0        48.000000     428.000000\n",
       "50%           1.0        71.000000     632.000000\n",
       "75%           1.0       106.000000    1049.000000\n",
       "max           1.0       270.000000    9996.000000"
      ]
     },
     "execution_count": 101,
     "metadata": {},
     "output_type": "execute_result"
    }
   ],
   "source": [
    "yandexq_df.describe()"
   ]
  },
  {
   "cell_type": "code",
   "execution_count": null,
   "id": "75b1645b-96f3-4431-bf95-90848d2bbde1",
   "metadata": {},
   "outputs": [],
   "source": []
  },
  {
   "cell_type": "code",
   "execution_count": 102,
   "id": "2627448d-9103-4c81-aacc-4cde8f80e06a",
   "metadata": {},
   "outputs": [
    {
     "data": {
      "text/plain": [
       "(219325, 5)"
      ]
     },
     "execution_count": 102,
     "metadata": {},
     "output_type": "execute_result"
    }
   ],
   "source": [
    "yandexq_df_prefiltered = yandexq_df[(yandexq_df[\"question_length\"]<=80) & (yandexq_df[\"answer_length\"] <= 2000)]\n",
    "yandexq_df_prefiltered.shape"
   ]
  },
  {
   "cell_type": "code",
   "execution_count": 103,
   "id": "2eaa69ed-0354-42b0-b2dc-6ab04c792e19",
   "metadata": {},
   "outputs": [
    {
     "data": {
      "image/png": "[encoded data removed]",
      "text/plain": [
       "<Figure size 1000x600 with 1 Axes>"
      ]
     },
     "metadata": {},
     "output_type": "display_data"
    }
   ],
   "source": [
    "plt.figure(figsize=(10, 6))\n",
    "\n",
    "plt.hist(train_df['question_length'], bins=10, alpha=0.5, label='train_df', color='blue')\n",
    "\n",
    "plt.hist(yandexq_df_prefiltered['question_length'], bins=10, alpha=0.5, label='yandexq_df', color='orange')\n",
    "\n",
    "plt.title('Сравнение длин вопросов')\n",
    "plt.xlabel('Длина вопроса')\n",
    "plt.ylabel('Частота')\n",
    "plt.legend()\n",
    "\n",
    "plt.show()"
   ]
  },
  {
   "cell_type": "code",
   "execution_count": 104,
   "id": "f26d244f-ac53-4ad3-8954-35cecea8dc7e",
   "metadata": {},
   "outputs": [
    {
     "data": {
      "image/png": "[encoded data removed]",
      "text/plain": [
       "<Figure size 1000x600 with 1 Axes>"
      ]
     },
     "metadata": {},
     "output_type": "display_data"
    }
   ],
   "source": [
    "plt.figure(figsize=(10, 6))\n",
    "\n",
    "plt.hist(train_df['answer_length'], bins=10, alpha=0.5, label='train_df', color='blue')\n",
    "\n",
    "plt.hist(yandexq_df_prefiltered['answer_length'], bins=10, alpha=0.5, label='yandexq_df', color='orange')\n",
    "\n",
    "plt.title('Сравнение длин ответов')\n",
    "plt.xlabel('Длина ответа')\n",
    "plt.ylabel('Частота')\n",
    "plt.legend()\n",
    "\n",
    "plt.show()"
   ]
  },
  {
   "cell_type": "code",
   "execution_count": null,
   "id": "727a3717-87fb-427e-ab4c-91eb6bbfd878",
   "metadata": {},
   "outputs": [],
   "source": []
  },
  {
   "cell_type": "code",
   "execution_count": null,
   "id": "779ca34d-29c1-419f-b06a-df87364d9d4f",
   "metadata": {},
   "outputs": [],
   "source": [
    "\n",
    "\n",
    "\n",
    "\n",
    "\n",
    "\n"
   ]
  },
  {
   "cell_type": "code",
   "execution_count": 105,
   "id": "d2c27a6e-3e93-425d-a22d-778cbe20160f",
   "metadata": {},
   "outputs": [
    {
     "name": "stdout",
     "output_type": "stream",
     "text": [
      "Index(['question', 'answer', 'isRelevant', 'question_length', 'answer_length'], dtype='object')\n",
      "Index(['question', 'answer', 'isRelevant', 'question_length', 'answer_length'], dtype='object')\n"
     ]
    }
   ],
   "source": [
    "print(train_df.columns)\n",
    "print(yandexq_df_prefiltered.columns)"
   ]
  },
  {
   "cell_type": "code",
   "execution_count": 106,
   "id": "997c93f5-49dc-4c1c-a488-a1ae6e34de27",
   "metadata": {},
   "outputs": [],
   "source": [
    "yandexq_df_remarked = yandexq_df_prefiltered.drop(columns=[\"isRelevant\", \"question_length\", \"answer_length\"])\n",
    "yandexq_df_remarked[\"isMiracl\"] = np.zeros(yandexq_df_remarked.shape[0], dtype=int)\n",
    "\n",
    "train_df_remarked = train_df.drop(columns=[\"isRelevant\", \"question_length\", \"answer_length\"])\n",
    "train_df_remarked[\"isMiracl\"] = np.ones(train_df_remarked.shape[0], dtype=int)"
   ]
  },
  {
   "cell_type": "code",
   "execution_count": null,
   "id": "966fba9f-743b-402d-9b54-9c9472dd686e",
   "metadata": {},
   "outputs": [],
   "source": []
  },
  {
   "cell_type": "code",
   "execution_count": null,
   "id": "564a519e-49cc-4f5e-ba08-7cc3fec928e0",
   "metadata": {},
   "outputs": [],
   "source": [
    "\n",
    "\n",
    "\n",
    "\n"
   ]
  },
  {
   "cell_type": "code",
   "execution_count": 107,
   "id": "34ddfec2-1453-4c3d-90fc-c92152b9becf",
   "metadata": {},
   "outputs": [
    {
     "data": {
      "text/plain": [
       "0         0\n",
       "1         0\n",
       "2         0\n",
       "3         0\n",
       "4         0\n",
       "         ..\n",
       "414219    0\n",
       "414220    0\n",
       "414227    0\n",
       "414230    0\n",
       "414231    0\n",
       "Name: isMiracl, Length: 219325, dtype: int32"
      ]
     },
     "execution_count": 107,
     "metadata": {},
     "output_type": "execute_result"
    }
   ],
   "source": [
    "yandexq_df_remarked[\"isMiracl\"]"
   ]
  },
  {
   "cell_type": "code",
   "execution_count": 112,
   "id": "8d15275e-35b0-4a83-980d-47f5e3ef185e",
   "metadata": {},
   "outputs": [],
   "source": [
    "np.random.seed(42)\n",
    "\n",
    "num_train_samples = train_df.shape[0]\n",
    "random_indices_train = np.random.choice(yandexq_df_remarked.index, size=num_train_samples, replace=False)\n",
    "remaining_indices = np.setdiff1d(yandexq_df_remarked.index, random_indices_train)\n",
    "random_indices_valid = np.random.choice(remaining_indices, size=num_train_samples*2, replace=False)"
   ]
  },
  {
   "cell_type": "code",
   "execution_count": 115,
   "id": "3fea2f28-a8f6-4e43-9d18-ddca01f1cdef",
   "metadata": {},
   "outputs": [
    {
     "name": "stdout",
     "output_type": "stream",
     "text": [
      "Index(['question', 'answer', 'isMiracl'], dtype='object')\n",
      "Index(['question', 'answer', 'isMiracl'], dtype='object')\n"
     ]
    }
   ],
   "source": [
    "print(train_df_remarked.columns)\n",
    "print(yandexq_df_remarked.columns)"
   ]
  },
  {
   "cell_type": "code",
   "execution_count": 116,
   "id": "040c351a-e6be-4aa7-97a6-e051a4319569",
   "metadata": {},
   "outputs": [
    {
     "name": "stdout",
     "output_type": "stream",
     "text": [
      "(67842, 2)\n",
      "isMiracl\n",
      "1    33921\n",
      "0    33921\n",
      "Name: count, dtype: int64\n"
     ]
    }
   ],
   "source": [
    "yandexq_df_remarked_random_sample = yandexq_df_remarked.loc[random_indices_train]\n",
    "\n",
    "X_combined_train = pd.concat([train_df_remarked, yandexq_df_remarked_random_sample], ignore_index=True)\n",
    "y_combined_train = X_combined_train[\"isMiracl\"]\n",
    "\n",
    "X_combined_train = X_combined_train.drop(columns=[\"isMiracl\"])\n",
    "\n",
    "print(X_combined_train.shape)\n",
    "print(y_combined_train.value_counts())"
   ]
  },
  {
   "cell_type": "code",
   "execution_count": 120,
   "id": "6b15238c-a21e-4dd6-a6eb-8fd35154fab6",
   "metadata": {},
   "outputs": [
    {
     "data": {
      "text/html": [
       "<div>\n",
       "<style scoped>\n",
       "    .dataframe tbody tr th:only-of-type {\n",
       "        vertical-align: middle;\n",
       "    }\n",
       "\n",
       "    .dataframe tbody tr th {\n",
       "        vertical-align: top;\n",
       "    }\n",
       "\n",
       "    .dataframe thead th {\n",
       "        text-align: right;\n",
       "    }\n",
       "</style>\n",
       "<table border=\"1\" class=\"dataframe\">\n",
       "  <thead>\n",
       "    <tr style=\"text-align: right;\">\n",
       "      <th></th>\n",
       "      <th>question</th>\n",
       "      <th>answer</th>\n",
       "    </tr>\n",
       "  </thead>\n",
       "  <tbody>\n",
       "    <tr>\n",
       "      <th>314254</th>\n",
       "      <td>Как различные духовные практики преодолевают н...</td>\n",
       "      <td>В случае с христианскими практиками упор делал...</td>\n",
       "    </tr>\n",
       "    <tr>\n",
       "      <th>227605</th>\n",
       "      <td>МНП частота собственных колебаний свободного с...</td>\n",
       "      <td>ну так вы же сами написали - справа f''n(xi=L)...</td>\n",
       "    </tr>\n",
       "    <tr>\n",
       "      <th>204341</th>\n",
       "      <td>Есть ли какие-нибудь действительно эффективные...</td>\n",
       "      <td>Изолированных - нет; системные наборы, меняющи...</td>\n",
       "    </tr>\n",
       "    <tr>\n",
       "      <th>213229</th>\n",
       "      <td>За что вы бы сказали «спасибо» своим родителям?</td>\n",
       "      <td>За воспитание, да оно было далеко от идеала. Н...</td>\n",
       "    </tr>\n",
       "    <tr>\n",
       "      <th>381880</th>\n",
       "      <td>Какие города России в пределах 300 км от Москв...</td>\n",
       "      <td>Начните со старых русских городов, входящих в ...</td>\n",
       "    </tr>\n",
       "  </tbody>\n",
       "</table>\n",
       "</div>"
      ],
      "text/plain": [
       "                                                 question  \\\n",
       "314254  Как различные духовные практики преодолевают н...   \n",
       "227605  МНП частота собственных колебаний свободного с...   \n",
       "204341  Есть ли какие-нибудь действительно эффективные...   \n",
       "213229    За что вы бы сказали «спасибо» своим родителям?   \n",
       "381880  Какие города России в пределах 300 км от Москв...   \n",
       "\n",
       "                                                   answer  \n",
       "314254  В случае с христианскими практиками упор делал...  \n",
       "227605  ну так вы же сами написали - справа f''n(xi=L)...  \n",
       "204341  Изолированных - нет; системные наборы, меняющи...  \n",
       "213229  За воспитание, да оно было далеко от идеала. Н...  \n",
       "381880  Начните со старых русских городов, входящих в ...  "
      ]
     },
     "execution_count": 120,
     "metadata": {},
     "output_type": "execute_result"
    }
   ],
   "source": [
    "X_combined_valid = yandexq_df_remarked.loc[random_indices_valid]\n",
    "y_combined_valid = X_combined_valid[\"isMiracl\"]\n",
    "X_combined_valid = X_combined_valid.drop(columns=[\"isMiracl\"])\n",
    "\n",
    "X_combined_valid.head()"
   ]
  },
  {
   "cell_type": "code",
   "execution_count": 121,
   "id": "b0dba9cc-55e8-4d67-af99-0187cf4b9f89",
   "metadata": {},
   "outputs": [
    {
     "data": {
      "text/plain": [
       "((67842, 2), (67842, 2))"
      ]
     },
     "execution_count": 121,
     "metadata": {},
     "output_type": "execute_result"
    }
   ],
   "source": [
    "X_combined_train.shape, X_combined_valid.shape"
   ]
  },
  {
   "cell_type": "code",
   "execution_count": 123,
   "id": "371d7069-a4a4-4799-a6d9-53656ffcf730",
   "metadata": {},
   "outputs": [],
   "source": [
    "X_combined_train['text'] = X_combined_train['question'] + \" [SEP] \" + X_combined_train['answer']\n",
    "X_combined_valid['text'] = X_combined_valid['question'] + \" [SEP] \" + X_combined_valid['answer']\n",
    "X_combined_train = X_combined_train.drop([\"question\", \"answer\"], axis=1)\n",
    "X_combined_valid = X_combined_valid.drop([\"question\", \"answer\"], axis=1)"
   ]
  },
  {
   "cell_type": "code",
   "execution_count": 124,
   "id": "8093f765-d88c-483e-ad6b-50afba52e00e",
   "metadata": {},
   "outputs": [
    {
     "data": {
      "text/html": [
       "<div>\n",
       "<style scoped>\n",
       "    .dataframe tbody tr th:only-of-type {\n",
       "        vertical-align: middle;\n",
       "    }\n",
       "\n",
       "    .dataframe tbody tr th {\n",
       "        vertical-align: top;\n",
       "    }\n",
       "\n",
       "    .dataframe thead th {\n",
       "        text-align: right;\n",
       "    }\n",
       "</style>\n",
       "<table border=\"1\" class=\"dataframe\">\n",
       "  <thead>\n",
       "    <tr style=\"text-align: right;\">\n",
       "      <th></th>\n",
       "      <th>text</th>\n",
       "    </tr>\n",
       "  </thead>\n",
       "  <tbody>\n",
       "    <tr>\n",
       "      <th>0</th>\n",
       "      <td>Когда был спущен на воду первый миноносец «Спо...</td>\n",
       "    </tr>\n",
       "    <tr>\n",
       "      <th>1</th>\n",
       "      <td>Когда был спущен на воду первый миноносец «Спо...</td>\n",
       "    </tr>\n",
       "    <tr>\n",
       "      <th>2</th>\n",
       "      <td>Когда был спущен на воду первый миноносец «Спо...</td>\n",
       "    </tr>\n",
       "    <tr>\n",
       "      <th>3</th>\n",
       "      <td>Когда был спущен на воду первый миноносец «Спо...</td>\n",
       "    </tr>\n",
       "    <tr>\n",
       "      <th>4</th>\n",
       "      <td>Когда был спущен на воду первый миноносец «Спо...</td>\n",
       "    </tr>\n",
       "  </tbody>\n",
       "</table>\n",
       "</div>"
      ],
      "text/plain": [
       "                                                text\n",
       "0  Когда был спущен на воду первый миноносец «Спо...\n",
       "1  Когда был спущен на воду первый миноносец «Спо...\n",
       "2  Когда был спущен на воду первый миноносец «Спо...\n",
       "3  Когда был спущен на воду первый миноносец «Спо...\n",
       "4  Когда был спущен на воду первый миноносец «Спо..."
      ]
     },
     "execution_count": 124,
     "metadata": {},
     "output_type": "execute_result"
    }
   ],
   "source": [
    "X_combined_train.head()"
   ]
  },
  {
   "cell_type": "code",
   "execution_count": 125,
   "id": "3ebf5998-166f-4a33-ac4d-931159c9605c",
   "metadata": {},
   "outputs": [
    {
     "data": {
      "text/html": [
       "<div>\n",
       "<style scoped>\n",
       "    .dataframe tbody tr th:only-of-type {\n",
       "        vertical-align: middle;\n",
       "    }\n",
       "\n",
       "    .dataframe tbody tr th {\n",
       "        vertical-align: top;\n",
       "    }\n",
       "\n",
       "    .dataframe thead th {\n",
       "        text-align: right;\n",
       "    }\n",
       "</style>\n",
       "<table border=\"1\" class=\"dataframe\">\n",
       "  <thead>\n",
       "    <tr style=\"text-align: right;\">\n",
       "      <th></th>\n",
       "      <th>text</th>\n",
       "    </tr>\n",
       "  </thead>\n",
       "  <tbody>\n",
       "    <tr>\n",
       "      <th>314254</th>\n",
       "      <td>Как различные духовные практики преодолевают н...</td>\n",
       "    </tr>\n",
       "    <tr>\n",
       "      <th>227605</th>\n",
       "      <td>МНП частота собственных колебаний свободного с...</td>\n",
       "    </tr>\n",
       "    <tr>\n",
       "      <th>204341</th>\n",
       "      <td>Есть ли какие-нибудь действительно эффективные...</td>\n",
       "    </tr>\n",
       "    <tr>\n",
       "      <th>213229</th>\n",
       "      <td>За что вы бы сказали «спасибо» своим родителям...</td>\n",
       "    </tr>\n",
       "    <tr>\n",
       "      <th>381880</th>\n",
       "      <td>Какие города России в пределах 300 км от Москв...</td>\n",
       "    </tr>\n",
       "  </tbody>\n",
       "</table>\n",
       "</div>"
      ],
      "text/plain": [
       "                                                     text\n",
       "314254  Как различные духовные практики преодолевают н...\n",
       "227605  МНП частота собственных колебаний свободного с...\n",
       "204341  Есть ли какие-нибудь действительно эффективные...\n",
       "213229  За что вы бы сказали «спасибо» своим родителям...\n",
       "381880  Какие города России в пределах 300 км от Москв..."
      ]
     },
     "execution_count": 125,
     "metadata": {},
     "output_type": "execute_result"
    }
   ],
   "source": [
    "X_combined_valid.head()"
   ]
  },
  {
   "cell_type": "code",
   "execution_count": 126,
   "id": "a5de1812-a0bd-4e2e-9d90-97fad86b5e2f",
   "metadata": {},
   "outputs": [
    {
     "data": {
      "text/plain": [
       "0        1\n",
       "1        1\n",
       "2        1\n",
       "3        1\n",
       "4        1\n",
       "        ..\n",
       "67837    0\n",
       "67838    0\n",
       "67839    0\n",
       "67840    0\n",
       "67841    0\n",
       "Name: isMiracl, Length: 67842, dtype: int32"
      ]
     },
     "execution_count": 126,
     "metadata": {},
     "output_type": "execute_result"
    }
   ],
   "source": [
    "y_combined_train"
   ]
  },
  {
   "cell_type": "code",
   "execution_count": null,
   "id": "6bf392b2-f110-42f2-a9c1-f9c70480e67a",
   "metadata": {},
   "outputs": [],
   "source": []
  },
  {
   "cell_type": "code",
   "execution_count": null,
   "id": "9020f3a9-5f60-46b9-8689-8733fa3774ca",
   "metadata": {},
   "outputs": [],
   "source": [
    "\n",
    "\n",
    "\n",
    "\n",
    "\n"
   ]
  },
  {
   "cell_type": "code",
   "execution_count": 131,
   "id": "14b00038-da0c-4542-9d74-d531cd5c067a",
   "metadata": {},
   "outputs": [
    {
     "name": "stdout",
     "output_type": "stream",
     "text": [
      "Collecting tf-keras\n",
      "  Downloading tf_keras-2.17.0-py3-none-any.whl.metadata (1.6 kB)\n",
      "Requirement already satisfied: tensorflow<2.18,>=2.17 in c:\\users\\эдуард\\appdata\\local\\programs\\python\\python39\\lib\\site-packages (from tf-keras) (2.17.0)\n",
      "Requirement already satisfied: tensorflow-intel==2.17.0 in c:\\users\\эдуард\\appdata\\local\\programs\\python\\python39\\lib\\site-packages (from tensorflow<2.18,>=2.17->tf-keras) (2.17.0)\n",
      "Requirement already satisfied: absl-py>=1.0.0 in c:\\users\\эдуард\\appdata\\local\\programs\\python\\python39\\lib\\site-packages (from tensorflow-intel==2.17.0->tensorflow<2.18,>=2.17->tf-keras) (2.1.0)\n",
      "Requirement already satisfied: astunparse>=1.6.0 in c:\\users\\эдуард\\appdata\\local\\programs\\python\\python39\\lib\\site-packages (from tensorflow-intel==2.17.0->tensorflow<2.18,>=2.17->tf-keras) (1.6.3)\n",
      "Requirement already satisfied: flatbuffers>=24.3.25 in c:\\users\\эдуард\\appdata\\local\\programs\\python\\python39\\lib\\site-packages (from tensorflow-intel==2.17.0->tensorflow<2.18,>=2.17->tf-keras) (24.3.25)\n",
      "Requirement already satisfied: gast!=0.5.0,!=0.5.1,!=0.5.2,>=0.2.1 in c:\\users\\эдуард\\appdata\\local\\programs\\python\\python39\\lib\\site-packages (from tensorflow-intel==2.17.0->tensorflow<2.18,>=2.17->tf-keras) (0.6.0)\n",
      "Requirement already satisfied: google-pasta>=0.1.1 in c:\\users\\эдуард\\appdata\\local\\programs\\python\\python39\\lib\\site-packages (from tensorflow-intel==2.17.0->tensorflow<2.18,>=2.17->tf-keras) (0.2.0)\n",
      "Requirement already satisfied: h5py>=3.10.0 in c:\\users\\эдуард\\appdata\\local\\programs\\python\\python39\\lib\\site-packages (from tensorflow-intel==2.17.0->tensorflow<2.18,>=2.17->tf-keras) (3.12.1)\n",
      "Requirement already satisfied: libclang>=13.0.0 in c:\\users\\эдуард\\appdata\\local\\programs\\python\\python39\\lib\\site-packages (from tensorflow-intel==2.17.0->tensorflow<2.18,>=2.17->tf-keras) (18.1.1)\n",
      "Requirement already satisfied: ml-dtypes<0.5.0,>=0.3.1 in c:\\users\\эдуард\\appdata\\local\\programs\\python\\python39\\lib\\site-packages (from tensorflow-intel==2.17.0->tensorflow<2.18,>=2.17->tf-keras) (0.4.1)\n",
      "Requirement already satisfied: opt-einsum>=2.3.2 in c:\\users\\эдуард\\appdata\\local\\programs\\python\\python39\\lib\\site-packages (from tensorflow-intel==2.17.0->tensorflow<2.18,>=2.17->tf-keras) (3.4.0)\n",
      "Requirement already satisfied: packaging in c:\\users\\эдуард\\appdata\\local\\programs\\python\\python39\\lib\\site-packages (from tensorflow-intel==2.17.0->tensorflow<2.18,>=2.17->tf-keras) (24.0)\n",
      "Requirement already satisfied: protobuf!=4.21.0,!=4.21.1,!=4.21.2,!=4.21.3,!=4.21.4,!=4.21.5,<5.0.0dev,>=3.20.3 in c:\\users\\эдуард\\appdata\\local\\programs\\python\\python39\\lib\\site-packages (from tensorflow-intel==2.17.0->tensorflow<2.18,>=2.17->tf-keras) (4.25.5)\n",
      "Requirement already satisfied: requests<3,>=2.21.0 in c:\\users\\эдуард\\appdata\\local\\programs\\python\\python39\\lib\\site-packages (from tensorflow-intel==2.17.0->tensorflow<2.18,>=2.17->tf-keras) (2.32.3)\n",
      "Requirement already satisfied: setuptools in c:\\users\\эдуард\\appdata\\local\\programs\\python\\python39\\lib\\site-packages (from tensorflow-intel==2.17.0->tensorflow<2.18,>=2.17->tf-keras) (57.4.0)\n",
      "Requirement already satisfied: six>=1.12.0 in c:\\users\\эдуард\\appdata\\local\\programs\\python\\python39\\lib\\site-packages (from tensorflow-intel==2.17.0->tensorflow<2.18,>=2.17->tf-keras) (1.16.0)\n",
      "Requirement already satisfied: termcolor>=1.1.0 in c:\\users\\эдуард\\appdata\\local\\programs\\python\\python39\\lib\\site-packages (from tensorflow-intel==2.17.0->tensorflow<2.18,>=2.17->tf-keras) (2.5.0)\n",
      "Requirement already satisfied: typing-extensions>=3.6.6 in c:\\users\\эдуард\\appdata\\local\\programs\\python\\python39\\lib\\site-packages (from tensorflow-intel==2.17.0->tensorflow<2.18,>=2.17->tf-keras) (4.11.0)\n",
      "Requirement already satisfied: wrapt>=1.11.0 in c:\\users\\эдуард\\appdata\\local\\programs\\python\\python39\\lib\\site-packages (from tensorflow-intel==2.17.0->tensorflow<2.18,>=2.17->tf-keras) (1.16.0)\n",
      "Requirement already satisfied: grpcio<2.0,>=1.24.3 in c:\\users\\эдуард\\appdata\\local\\programs\\python\\python39\\lib\\site-packages (from tensorflow-intel==2.17.0->tensorflow<2.18,>=2.17->tf-keras) (1.67.0)\n",
      "Requirement already satisfied: tensorboard<2.18,>=2.17 in c:\\users\\эдуард\\appdata\\local\\programs\\python\\python39\\lib\\site-packages (from tensorflow-intel==2.17.0->tensorflow<2.18,>=2.17->tf-keras) (2.17.1)\n",
      "Requirement already satisfied: keras>=3.2.0 in c:\\users\\эдуард\\appdata\\local\\programs\\python\\python39\\lib\\site-packages (from tensorflow-intel==2.17.0->tensorflow<2.18,>=2.17->tf-keras) (3.6.0)\n",
      "Requirement already satisfied: tensorflow-io-gcs-filesystem>=0.23.1 in c:\\users\\эдуард\\appdata\\local\\programs\\python\\python39\\lib\\site-packages (from tensorflow-intel==2.17.0->tensorflow<2.18,>=2.17->tf-keras) (0.31.0)\n",
      "Requirement already satisfied: numpy<2.0.0,>=1.23.5 in c:\\users\\эдуард\\appdata\\local\\programs\\python\\python39\\lib\\site-packages (from tensorflow-intel==2.17.0->tensorflow<2.18,>=2.17->tf-keras) (1.26.4)\n",
      "Requirement already satisfied: wheel<1.0,>=0.23.0 in c:\\users\\эдуард\\appdata\\local\\programs\\python\\python39\\lib\\site-packages (from astunparse>=1.6.0->tensorflow-intel==2.17.0->tensorflow<2.18,>=2.17->tf-keras) (0.44.0)\n",
      "Requirement already satisfied: rich in c:\\users\\эдуард\\appdata\\local\\programs\\python\\python39\\lib\\site-packages (from keras>=3.2.0->tensorflow-intel==2.17.0->tensorflow<2.18,>=2.17->tf-keras) (13.8.1)\n",
      "Requirement already satisfied: namex in c:\\users\\эдуард\\appdata\\local\\programs\\python\\python39\\lib\\site-packages (from keras>=3.2.0->tensorflow-intel==2.17.0->tensorflow<2.18,>=2.17->tf-keras) (0.0.8)\n",
      "Requirement already satisfied: optree in c:\\users\\эдуард\\appdata\\local\\programs\\python\\python39\\lib\\site-packages (from keras>=3.2.0->tensorflow-intel==2.17.0->tensorflow<2.18,>=2.17->tf-keras) (0.13.0)\n",
      "Requirement already satisfied: charset-normalizer<4,>=2 in c:\\users\\эдуард\\appdata\\local\\programs\\python\\python39\\lib\\site-packages (from requests<3,>=2.21.0->tensorflow-intel==2.17.0->tensorflow<2.18,>=2.17->tf-keras) (2.0.4)\n",
      "Requirement already satisfied: idna<4,>=2.5 in c:\\users\\эдуард\\appdata\\local\\programs\\python\\python39\\lib\\site-packages (from requests<3,>=2.21.0->tensorflow-intel==2.17.0->tensorflow<2.18,>=2.17->tf-keras) (3.2)\n",
      "Requirement already satisfied: urllib3<3,>=1.21.1 in c:\\users\\эдуард\\appdata\\local\\programs\\python\\python39\\lib\\site-packages (from requests<3,>=2.21.0->tensorflow-intel==2.17.0->tensorflow<2.18,>=2.17->tf-keras) (1.26.6)\n",
      "Requirement already satisfied: certifi>=2017.4.17 in c:\\users\\эдуард\\appdata\\local\\programs\\python\\python39\\lib\\site-packages (from requests<3,>=2.21.0->tensorflow-intel==2.17.0->tensorflow<2.18,>=2.17->tf-keras) (2021.5.30)\n",
      "Requirement already satisfied: markdown>=2.6.8 in c:\\users\\эдуард\\appdata\\local\\programs\\python\\python39\\lib\\site-packages (from tensorboard<2.18,>=2.17->tensorflow-intel==2.17.0->tensorflow<2.18,>=2.17->tf-keras) (3.7)\n",
      "Requirement already satisfied: tensorboard-data-server<0.8.0,>=0.7.0 in c:\\users\\эдуард\\appdata\\local\\programs\\python\\python39\\lib\\site-packages (from tensorboard<2.18,>=2.17->tensorflow-intel==2.17.0->tensorflow<2.18,>=2.17->tf-keras) (0.7.2)\n",
      "Requirement already satisfied: werkzeug>=1.0.1 in c:\\users\\эдуард\\appdata\\local\\programs\\python\\python39\\lib\\site-packages (from tensorboard<2.18,>=2.17->tensorflow-intel==2.17.0->tensorflow<2.18,>=2.17->tf-keras) (3.0.4)\n",
      "Requirement already satisfied: importlib-metadata>=4.4 in c:\\users\\эдуард\\appdata\\local\\programs\\python\\python39\\lib\\site-packages (from markdown>=2.6.8->tensorboard<2.18,>=2.17->tensorflow-intel==2.17.0->tensorflow<2.18,>=2.17->tf-keras) (7.1.0)\n",
      "Requirement already satisfied: MarkupSafe>=2.1.1 in c:\\users\\эдуард\\appdata\\local\\programs\\python\\python39\\lib\\site-packages (from werkzeug>=1.0.1->tensorboard<2.18,>=2.17->tensorflow-intel==2.17.0->tensorflow<2.18,>=2.17->tf-keras) (2.1.5)\n",
      "Requirement already satisfied: markdown-it-py>=2.2.0 in c:\\users\\эдуард\\appdata\\local\\programs\\python\\python39\\lib\\site-packages (from rich->keras>=3.2.0->tensorflow-intel==2.17.0->tensorflow<2.18,>=2.17->tf-keras) (3.0.0)\n",
      "Requirement already satisfied: pygments<3.0.0,>=2.13.0 in c:\\users\\эдуард\\appdata\\local\\programs\\python\\python39\\lib\\site-packages (from rich->keras>=3.2.0->tensorflow-intel==2.17.0->tensorflow<2.18,>=2.17->tf-keras) (2.17.2)\n",
      "Requirement already satisfied: zipp>=0.5 in c:\\users\\эдуард\\appdata\\local\\programs\\python\\python39\\lib\\site-packages (from importlib-metadata>=4.4->markdown>=2.6.8->tensorboard<2.18,>=2.17->tensorflow-intel==2.17.0->tensorflow<2.18,>=2.17->tf-keras) (3.18.1)\n",
      "Requirement already satisfied: mdurl~=0.1 in c:\\users\\эдуард\\appdata\\local\\programs\\python\\python39\\lib\\site-packages (from markdown-it-py>=2.2.0->rich->keras>=3.2.0->tensorflow-intel==2.17.0->tensorflow<2.18,>=2.17->tf-keras) (0.1.2)\n",
      "Downloading tf_keras-2.17.0-py3-none-any.whl (1.7 MB)\n",
      "   ---------------------------------------- 0.0/1.7 MB ? eta -:--:--\n",
      "   ------------------------ --------------- 1.0/1.7 MB 8.4 MB/s eta 0:00:01\n",
      "   ---------------------------------------- 1.7/1.7 MB 6.7 MB/s eta 0:00:00\n",
      "Installing collected packages: tf-keras\n",
      "Successfully installed tf-keras-2.17.0\n"
     ]
    }
   ],
   "source": [
    "!pip install tf-keras"
   ]
  },
  {
   "cell_type": "code",
   "execution_count": 132,
   "id": "18b61b79-34ad-4df2-9a99-f0085b471544",
   "metadata": {},
   "outputs": [
    {
     "name": "stdout",
     "output_type": "stream",
     "text": [
      "WARNING:tensorflow:From C:\\Users\\Эдуард\\AppData\\Local\\Programs\\Python\\Python39\\lib\\site-packages\\tf_keras\\src\\losses.py:2976: The name tf.losses.sparse_softmax_cross_entropy is deprecated. Please use tf.compat.v1.losses.sparse_softmax_cross_entropy instead.\n",
      "\n"
     ]
    }
   ],
   "source": [
    "import torch\n",
    "from transformers import Trainer, TrainingArguments\n",
    "from transformers import BertTokenizer, BertForSequenceClassification"
   ]
  },
  {
   "cell_type": "code",
   "execution_count": 137,
   "id": "f40dd0af-3eb4-44b8-822f-bc191e622d30",
   "metadata": {},
   "outputs": [
    {
     "name": "stdout",
     "output_type": "stream",
     "text": [
      "CUDA is not available.  Training on CPU ...\n"
     ]
    }
   ],
   "source": [
    "train_on_gpu = torch.cuda.is_available()\n",
    "\n",
    "if not train_on_gpu:\n",
    "    print('CUDA is not available.  Training on CPU ...')\n",
    "    device = torch.device(\"cpu\")\n",
    "else:\n",
    "    print('CUDA is available!  Training on GPU ...')\n",
    "    device = torch.device(\"cuda\")\n",
    "\n",
    "\n"
   ]
  },
  {
   "cell_type": "code",
   "execution_count": 138,
   "id": "3dbff64f-d91b-4a6c-bbae-3c6525e91b59",
   "metadata": {},
   "outputs": [
    {
     "name": "stderr",
     "output_type": "stream",
     "text": [
      "Some weights of BertForSequenceClassification were not initialized from the model checkpoint at cointegrated/rubert-tiny and are newly initialized: ['classifier.bias', 'classifier.weight']\n",
      "You should probably TRAIN this model on a down-stream task to be able to use it for predictions and inference.\n"
     ]
    }
   ],
   "source": [
    "tokenizer = BertTokenizer.from_pretrained('cointegrated/rubert-tiny')\n",
    "model = BertForSequenceClassification.from_pretrained('cointegrated/rubert-tiny', num_labels=2)"
   ]
  },
  {
   "cell_type": "code",
   "execution_count": 139,
   "id": "0d2115fd-af20-4396-a9a7-c5b9e5c259de",
   "metadata": {},
   "outputs": [
    {
     "data": {
      "text/plain": [
       "BertForSequenceClassification(\n",
       "  (bert): BertModel(\n",
       "    (embeddings): BertEmbeddings(\n",
       "      (word_embeddings): Embedding(29564, 312, padding_idx=0)\n",
       "      (position_embeddings): Embedding(512, 312)\n",
       "      (token_type_embeddings): Embedding(2, 312)\n",
       "      (LayerNorm): LayerNorm((312,), eps=1e-12, elementwise_affine=True)\n",
       "      (dropout): Dropout(p=0.1, inplace=False)\n",
       "    )\n",
       "    (encoder): BertEncoder(\n",
       "      (layer): ModuleList(\n",
       "        (0-2): 3 x BertLayer(\n",
       "          (attention): BertAttention(\n",
       "            (self): BertSdpaSelfAttention(\n",
       "              (query): Linear(in_features=312, out_features=312, bias=True)\n",
       "              (key): Linear(in_features=312, out_features=312, bias=True)\n",
       "              (value): Linear(in_features=312, out_features=312, bias=True)\n",
       "              (dropout): Dropout(p=0.1, inplace=False)\n",
       "            )\n",
       "            (output): BertSelfOutput(\n",
       "              (dense): Linear(in_features=312, out_features=312, bias=True)\n",
       "              (LayerNorm): LayerNorm((312,), eps=1e-12, elementwise_affine=True)\n",
       "              (dropout): Dropout(p=0.1, inplace=False)\n",
       "            )\n",
       "          )\n",
       "          (intermediate): BertIntermediate(\n",
       "            (dense): Linear(in_features=312, out_features=600, bias=True)\n",
       "            (intermediate_act_fn): GELUActivation()\n",
       "          )\n",
       "          (output): BertOutput(\n",
       "            (dense): Linear(in_features=600, out_features=312, bias=True)\n",
       "            (LayerNorm): LayerNorm((312,), eps=1e-12, elementwise_affine=True)\n",
       "            (dropout): Dropout(p=0.1, inplace=False)\n",
       "          )\n",
       "        )\n",
       "      )\n",
       "    )\n",
       "    (pooler): BertPooler(\n",
       "      (dense): Linear(in_features=312, out_features=312, bias=True)\n",
       "      (activation): Tanh()\n",
       "    )\n",
       "  )\n",
       "  (dropout): Dropout(p=0.1, inplace=False)\n",
       "  (classifier): Linear(in_features=312, out_features=2, bias=True)\n",
       ")"
      ]
     },
     "execution_count": 139,
     "metadata": {},
     "output_type": "execute_result"
    }
   ],
   "source": [
    "model.to(device)"
   ]
  },
  {
   "cell_type": "code",
   "execution_count": null,
   "id": "26a83489-20b9-46bb-bc48-560f2288270d",
   "metadata": {},
   "outputs": [],
   "source": []
  },
  {
   "cell_type": "code",
   "execution_count": 141,
   "id": "21272cbe-c1fb-484e-8ca0-954931cd44e7",
   "metadata": {},
   "outputs": [],
   "source": [
    "train_encodings = tokenizer(X_combined_train[\"text\"].tolist(), truncation=True, padding=True)\n",
    "valid_encodings = tokenizer(X_combined_valid[\"text\"].tolist(), truncation=True, padding=True)\n",
    "train_labels = y_combined_train\n",
    "valid_labels = y_combined_valid"
   ]
  },
  {
   "cell_type": "code",
   "execution_count": 142,
   "id": "4ff5c252-db83-4ae4-9aba-fadaf0818367",
   "metadata": {},
   "outputs": [],
   "source": [
    "class RelevantDataset(torch.utils.data.Dataset):\n",
    "    def __init__(self, encodings, labels):\n",
    "        self.encodings = encodings\n",
    "        self.labels = labels\n",
    "\n",
    "    def __getitem__(self, idx):\n",
    "        item = {key: torch.tensor(val[idx]) for key, val in self.encodings.items()}\n",
    "        item['labels'] = torch.tensor(self.labels[idx])\n",
    "        return item\n",
    "\n",
    "    def __len__(self):\n",
    "        return len(self.labels)"
   ]
  },
  {
   "cell_type": "code",
   "execution_count": 148,
   "id": "f3d855bb-655f-4d49-89ae-1e07b57c3ee1",
   "metadata": {},
   "outputs": [],
   "source": [
    "train_dataset = RelevantDataset(train_encodings, train_labels.tolist())\n",
    "valid_dataset = RelevantDataset(valid_encodings, valid_labels.tolist())"
   ]
  },
  {
   "cell_type": "code",
   "execution_count": 152,
   "id": "ebcda19f-c8d0-49ee-9fa7-7283769a28df",
   "metadata": {},
   "outputs": [],
   "source": [
    "training_args = TrainingArguments(\n",
    "    output_dir='./results',\n",
    "    num_train_epochs=3,  # увеличено число эпох\n",
    "    per_device_train_batch_size=8,\n",
    "    per_device_eval_batch_size=8,\n",
    "    learning_rate=2e-5,  # зафиксированная скорость обучения\n",
    "    warmup_steps=500,\n",
    "    weight_decay=0.01,\n",
    "    logging_dir='./logs',\n",
    "    eval_strategy=\"steps\",  # оценка на каждом шаге\n",
    "    eval_steps=2500,\n",
    "    lr_scheduler_type='cosine',\n",
    "    load_best_model_at_end=True,\n",
    "    metric_for_best_model=\"eval_loss\",\n",
    "    save_strategy=\"steps\",  # сохранение на каждом шаге\n",
    "    save_steps=2500,  # save_steps кратно eval_steps\n",
    "    greater_is_better=False\n",
    ")\n",
    "\n",
    "trainer = Trainer(\n",
    "    model=model,\n",
    "    args=training_args,\n",
    "    train_dataset=train_dataset,\n",
    "    eval_dataset=valid_dataset,\n",
    ")"
   ]
  },
  {
   "cell_type": "code",
   "execution_count": null,
   "id": "f4bd5e6e-1468-45e8-ab9e-73a9b469935f",
   "metadata": {},
   "outputs": [],
   "source": [
    "trainer.train()"
   ]
  },
  {
   "cell_type": "code",
   "execution_count": null,
   "id": "c2cd0a21-3649-43d8-a086-5573fcf7afb7",
   "metadata": {},
   "outputs": [],
   "source": [
    "torch.save(model.state_dict(), \"next_model.pt\")"
   ]
  },
  {
   "cell_type": "code",
   "execution_count": null,
   "id": "a03d403a-c36d-4088-b651-dfd24cf4a819",
   "metadata": {},
   "outputs": [],
   "source": [
    "\n",
    "\n",
    "\n",
    "\n",
    "\n"
   ]
  },
  {
   "cell_type": "code",
   "execution_count": null,
   "id": "0ec59425-06c1-43b6-930b-d3374d498bfb",
   "metadata": {},
   "outputs": [],
   "source": []
  },
  {
   "cell_type": "code",
   "execution_count": 155,
   "id": "bb7b9e5a-16e2-4c68-bc9e-cfbfa0abd282",
   "metadata": {},
   "outputs": [
    {
     "name": "stderr",
     "output_type": "stream",
     "text": [
      "Some weights of BertForSequenceClassification were not initialized from the model checkpoint at cointegrated/rubert-tiny and are newly initialized: ['classifier.bias', 'classifier.weight']\n",
      "You should probably TRAIN this model on a down-stream task to be able to use it for predictions and inference.\n",
      "C:\\Users\\Эдуард\\AppData\\Local\\Temp\\ipykernel_14864\\1157728740.py:2: FutureWarning: You are using `torch.load` with `weights_only=False` (the current default value), which uses the default pickle module implicitly. It is possible to construct malicious pickle data which will execute arbitrary code during unpickling (See https://github.com/pytorch/pytorch/blob/main/SECURITY.md#untrusted-models for more details). In a future release, the default value for `weights_only` will be flipped to `True`. This limits the functions that could be executed during unpickling. Arbitrary objects will no longer be allowed to be loaded via this mode unless they are explicitly allowlisted by the user via `torch.serialization.add_safe_globals`. We recommend you start setting `weights_only=True` for any use case where you don't have full control of the loaded file. Please open an issue on GitHub for any issues related to this experimental feature.\n",
      "  state_dict = torch.load(\"homogenity_model_1epoch.pt\", map_location=torch.device('cpu'))\n"
     ]
    },
    {
     "data": {
      "text/plain": [
       "<All keys matched successfully>"
      ]
     },
     "execution_count": 155,
     "metadata": {},
     "output_type": "execute_result"
    }
   ],
   "source": [
    "model = BertForSequenceClassification.from_pretrained('cointegrated/rubert-tiny', num_labels=2)\n",
    "state_dict = torch.load(\"homogenity_model_1epoch.pt\", map_location=torch.device('cpu'))\n",
    "model.load_state_dict(state_dict)"
   ]
  },
  {
   "cell_type": "code",
   "execution_count": 156,
   "id": "d4a414a8-de94-44af-b26c-6d3303b6889f",
   "metadata": {},
   "outputs": [
    {
     "data": {
      "text/plain": [
       "BertForSequenceClassification(\n",
       "  (bert): BertModel(\n",
       "    (embeddings): BertEmbeddings(\n",
       "      (word_embeddings): Embedding(29564, 312, padding_idx=0)\n",
       "      (position_embeddings): Embedding(512, 312)\n",
       "      (token_type_embeddings): Embedding(2, 312)\n",
       "      (LayerNorm): LayerNorm((312,), eps=1e-12, elementwise_affine=True)\n",
       "      (dropout): Dropout(p=0.1, inplace=False)\n",
       "    )\n",
       "    (encoder): BertEncoder(\n",
       "      (layer): ModuleList(\n",
       "        (0-2): 3 x BertLayer(\n",
       "          (attention): BertAttention(\n",
       "            (self): BertSdpaSelfAttention(\n",
       "              (query): Linear(in_features=312, out_features=312, bias=True)\n",
       "              (key): Linear(in_features=312, out_features=312, bias=True)\n",
       "              (value): Linear(in_features=312, out_features=312, bias=True)\n",
       "              (dropout): Dropout(p=0.1, inplace=False)\n",
       "            )\n",
       "            (output): BertSelfOutput(\n",
       "              (dense): Linear(in_features=312, out_features=312, bias=True)\n",
       "              (LayerNorm): LayerNorm((312,), eps=1e-12, elementwise_affine=True)\n",
       "              (dropout): Dropout(p=0.1, inplace=False)\n",
       "            )\n",
       "          )\n",
       "          (intermediate): BertIntermediate(\n",
       "            (dense): Linear(in_features=312, out_features=600, bias=True)\n",
       "            (intermediate_act_fn): GELUActivation()\n",
       "          )\n",
       "          (output): BertOutput(\n",
       "            (dense): Linear(in_features=600, out_features=312, bias=True)\n",
       "            (LayerNorm): LayerNorm((312,), eps=1e-12, elementwise_affine=True)\n",
       "            (dropout): Dropout(p=0.1, inplace=False)\n",
       "          )\n",
       "        )\n",
       "      )\n",
       "    )\n",
       "    (pooler): BertPooler(\n",
       "      (dense): Linear(in_features=312, out_features=312, bias=True)\n",
       "      (activation): Tanh()\n",
       "    )\n",
       "  )\n",
       "  (dropout): Dropout(p=0.1, inplace=False)\n",
       "  (classifier): Linear(in_features=312, out_features=2, bias=True)\n",
       ")"
      ]
     },
     "execution_count": 156,
     "metadata": {},
     "output_type": "execute_result"
    }
   ],
   "source": [
    "model.eval()"
   ]
  },
  {
   "cell_type": "code",
   "execution_count": 212,
   "id": "dd014d91-9ff6-45b1-addb-0ae3036fea2a",
   "metadata": {},
   "outputs": [],
   "source": [
    "def predict(question, answer, model, threshold=0.5):\n",
    "    inputs = tokenizer(f\"{question}[SEP]{answer}\", return_tensors='pt', truncation=True, padding=True)\n",
    "    outputs = model(**inputs)\n",
    "    probas = torch.nn.functional.softmax(outputs.logits, dim=-1)[0]\n",
    "    if probas[1] >= threshold:\n",
    "        return 1\n",
    "    else:\n",
    "        return 0  "
   ]
  },
  {
   "cell_type": "code",
   "execution_count": 213,
   "id": "6942dfae-e57c-4ef0-a317-0229c3beaa42",
   "metadata": {},
   "outputs": [],
   "source": [
    "from tqdm import tqdm"
   ]
  },
  {
   "cell_type": "code",
   "execution_count": 222,
   "id": "19646670-2c3e-43d8-ab0a-04be36acb830",
   "metadata": {},
   "outputs": [],
   "source": [
    "predictions = []"
   ]
  },
  {
   "cell_type": "code",
   "execution_count": 223,
   "id": "df1c6376-d980-4f6b-9e95-7cfd56a33c46",
   "metadata": {},
   "outputs": [
    {
     "name": "stderr",
     "output_type": "stream",
     "text": [
      "100%|████████████████████████████████████████████████████████████████████████████| 67842/67842 [14:39<00:00, 77.15it/s]\n"
     ]
    }
   ],
   "source": [
    "for text in tqdm(X_combined_valid[\"text\"]):\n",
    "    qu = text.split(\"[SEP]\")[0]\n",
    "    an = text.split(\"[SEP]\")[1]\n",
    "    predictions.append(predict(qu, an, model, threshold=0.01))"
   ]
  },
  {
   "cell_type": "code",
   "execution_count": null,
   "id": "cf957e18-5831-4528-83aa-08cc5652e301",
   "metadata": {},
   "outputs": [],
   "source": []
  },
  {
   "cell_type": "code",
   "execution_count": 164,
   "id": "8ffc3492-23ba-4e6f-80dc-79755532d756",
   "metadata": {},
   "outputs": [
    {
     "name": "stderr",
     "output_type": "stream",
     "text": [
      "Some weights of BertForSequenceClassification were not initialized from the model checkpoint at cointegrated/rubert-tiny and are newly initialized: ['classifier.bias', 'classifier.weight']\n",
      "You should probably TRAIN this model on a down-stream task to be able to use it for predictions and inference.\n",
      "C:\\Users\\Эдуард\\AppData\\Local\\Temp\\ipykernel_14864\\869236614.py:2: FutureWarning: You are using `torch.load` with `weights_only=False` (the current default value), which uses the default pickle module implicitly. It is possible to construct malicious pickle data which will execute arbitrary code during unpickling (See https://github.com/pytorch/pytorch/blob/main/SECURITY.md#untrusted-models for more details). In a future release, the default value for `weights_only` will be flipped to `True`. This limits the functions that could be executed during unpickling. Arbitrary objects will no longer be allowed to be loaded via this mode unless they are explicitly allowlisted by the user via `torch.serialization.add_safe_globals`. We recommend you start setting `weights_only=True` for any use case where you don't have full control of the loaded file. Please open an issue on GitHub for any issues related to this experimental feature.\n",
      "  state_dict2 = torch.load(\"homogenity_model_2epoch.pt\", map_location=torch.device('cpu'))\n"
     ]
    },
    {
     "data": {
      "text/plain": [
       "<All keys matched successfully>"
      ]
     },
     "execution_count": 164,
     "metadata": {},
     "output_type": "execute_result"
    }
   ],
   "source": [
    "model2 = BertForSequenceClassification.from_pretrained('cointegrated/rubert-tiny', num_labels=2)\n",
    "state_dict2 = torch.load(\"homogenity_model_2epoch.pt\", map_location=torch.device('cpu'))\n",
    "model2.load_state_dict(state_dict2)"
   ]
  },
  {
   "cell_type": "code",
   "execution_count": 165,
   "id": "2efd9069-a33a-4e79-83ec-b3a52aca5c44",
   "metadata": {},
   "outputs": [],
   "source": [
    "predictions_2 = []"
   ]
  },
  {
   "cell_type": "code",
   "execution_count": 166,
   "id": "f40e2a57-dae9-479c-b0d8-74ee3e303ae9",
   "metadata": {},
   "outputs": [
    {
     "name": "stderr",
     "output_type": "stream",
     "text": [
      "100%|████████████████████████████████████████████████████████████████████████████| 67842/67842 [14:41<00:00, 76.96it/s]\n"
     ]
    }
   ],
   "source": [
    "for text in tqdm(X_combined_valid[\"text\"]):\n",
    "    qu = text.split(\"[SEP]\")[0]\n",
    "    an = text.split(\"[SEP]\")[1]\n",
    "    predictions_2.append(predict(qu, an, model2))"
   ]
  },
  {
   "cell_type": "code",
   "execution_count": null,
   "id": "69ebde03-0983-400c-8937-ec153cd74805",
   "metadata": {},
   "outputs": [],
   "source": [
    "\n",
    "\n",
    "\n"
   ]
  },
  {
   "cell_type": "code",
   "execution_count": 182,
   "id": "2e8ee674-af3f-4b24-90a8-46528de9aad6",
   "metadata": {},
   "outputs": [
    {
     "name": "stderr",
     "output_type": "stream",
     "text": [
      "Some weights of BertForSequenceClassification were not initialized from the model checkpoint at cointegrated/rubert-tiny and are newly initialized: ['classifier.bias', 'classifier.weight']\n",
      "You should probably TRAIN this model on a down-stream task to be able to use it for predictions and inference.\n",
      "C:\\Users\\Эдуард\\AppData\\Local\\Temp\\ipykernel_14864\\1348548223.py:2: FutureWarning: You are using `torch.load` with `weights_only=False` (the current default value), which uses the default pickle module implicitly. It is possible to construct malicious pickle data which will execute arbitrary code during unpickling (See https://github.com/pytorch/pytorch/blob/main/SECURITY.md#untrusted-models for more details). In a future release, the default value for `weights_only` will be flipped to `True`. This limits the functions that could be executed during unpickling. Arbitrary objects will no longer be allowed to be loaded via this mode unless they are explicitly allowlisted by the user via `torch.serialization.add_safe_globals`. We recommend you start setting `weights_only=True` for any use case where you don't have full control of the loaded file. Please open an issue on GitHub for any issues related to this experimental feature.\n",
      "  state_dict3 = torch.load(\"homogenity_model_3epoch.pt\", map_location=torch.device('cpu'))\n"
     ]
    },
    {
     "data": {
      "text/plain": [
       "<All keys matched successfully>"
      ]
     },
     "execution_count": 182,
     "metadata": {},
     "output_type": "execute_result"
    }
   ],
   "source": [
    "model3 = BertForSequenceClassification.from_pretrained('cointegrated/rubert-tiny', num_labels=2)\n",
    "state_dict3 = torch.load(\"homogenity_model_3epoch.pt\", map_location=torch.device('cpu'))\n",
    "model3.load_state_dict(state_dict3)"
   ]
  },
  {
   "cell_type": "code",
   "execution_count": 183,
   "id": "190508bb-76ce-4eb2-aad8-2709f99d5911",
   "metadata": {},
   "outputs": [],
   "source": [
    "predictions_3 = []"
   ]
  },
  {
   "cell_type": "code",
   "execution_count": 184,
   "id": "7ddb7995-53c4-4b07-8db9-d202423cb335",
   "metadata": {},
   "outputs": [
    {
     "name": "stderr",
     "output_type": "stream",
     "text": [
      "100%|████████████████████████████████████████████████████████████████████████████| 67842/67842 [14:25<00:00, 78.39it/s]\n"
     ]
    }
   ],
   "source": [
    "for text in tqdm(X_combined_valid[\"text\"]):\n",
    "    qu = text.split(\"[SEP]\")[0]\n",
    "    an = text.split(\"[SEP]\")[1]\n",
    "    predictions_3.append(predict(qu, an, model3))"
   ]
  },
  {
   "cell_type": "code",
   "execution_count": null,
   "id": "e430ee6a-c889-40b1-8ac8-a1a4b95a0f79",
   "metadata": {},
   "outputs": [],
   "source": [
    "\n",
    "\n",
    "\n",
    "\n"
   ]
  },
  {
   "cell_type": "code",
   "execution_count": 224,
   "id": "790b0488-6210-4111-a987-8d58fa5b48bd",
   "metadata": {},
   "outputs": [],
   "source": [
    "predictions = pd.Series(predictions)\n",
    "predictions_2 = pd.Series(predictions_2)\n",
    "predictions_3 = pd.Series(predictions_3)"
   ]
  },
  {
   "cell_type": "code",
   "execution_count": 225,
   "id": "4aefba60-b6d1-472a-b8cb-ddda3ffa8d96",
   "metadata": {},
   "outputs": [
    {
     "data": {
      "text/plain": [
       "0    65704\n",
       "1     2138\n",
       "Name: count, dtype: int64"
      ]
     },
     "execution_count": 225,
     "metadata": {},
     "output_type": "execute_result"
    }
   ],
   "source": [
    "predictions.value_counts()"
   ]
  },
  {
   "cell_type": "code",
   "execution_count": 169,
   "id": "9da8bc38-04a1-455c-9b59-5f6de4c5f5e1",
   "metadata": {},
   "outputs": [
    {
     "data": {
      "text/plain": [
       "0    66839\n",
       "1     1003\n",
       "Name: count, dtype: int64"
      ]
     },
     "execution_count": 169,
     "metadata": {},
     "output_type": "execute_result"
    }
   ],
   "source": [
    "predictions_2.value_counts()"
   ]
  },
  {
   "cell_type": "code",
   "execution_count": 187,
   "id": "4f91714b-46fd-43f4-bf21-fd3832d46ebf",
   "metadata": {},
   "outputs": [
    {
     "data": {
      "text/plain": [
       "0    67117\n",
       "1      725\n",
       "Name: count, dtype: int64"
      ]
     },
     "execution_count": 187,
     "metadata": {},
     "output_type": "execute_result"
    }
   ],
   "source": [
    "predictions_3.value_counts()"
   ]
  },
  {
   "cell_type": "code",
   "execution_count": null,
   "id": "6ae43861-c741-4d91-8574-833f3880cc36",
   "metadata": {},
   "outputs": [],
   "source": [
    "\n",
    "\n",
    "\n",
    "\n"
   ]
  },
  {
   "cell_type": "code",
   "execution_count": 226,
   "id": "38627aae-737d-401e-8d8f-1a7b8f99cc43",
   "metadata": {},
   "outputs": [],
   "source": [
    "random_indices_valid_large = np.random.choice(remaining_indices, size=num_train_samples*5, replace=False)"
   ]
  },
  {
   "cell_type": "code",
   "execution_count": 227,
   "id": "32946a62-6394-436b-aee1-a3e04fecb12c",
   "metadata": {},
   "outputs": [
    {
     "data": {
      "text/html": [
       "<div>\n",
       "<style scoped>\n",
       "    .dataframe tbody tr th:only-of-type {\n",
       "        vertical-align: middle;\n",
       "    }\n",
       "\n",
       "    .dataframe tbody tr th {\n",
       "        vertical-align: top;\n",
       "    }\n",
       "\n",
       "    .dataframe thead th {\n",
       "        text-align: right;\n",
       "    }\n",
       "</style>\n",
       "<table border=\"1\" class=\"dataframe\">\n",
       "  <thead>\n",
       "    <tr style=\"text-align: right;\">\n",
       "      <th></th>\n",
       "      <th>question</th>\n",
       "      <th>answer</th>\n",
       "    </tr>\n",
       "  </thead>\n",
       "  <tbody>\n",
       "    <tr>\n",
       "      <th>325781</th>\n",
       "      <td>Как оплатить налог на машину без квитанции?</td>\n",
       "      <td>Чтобы оплатить налог достаточно знать реквизит...</td>\n",
       "    </tr>\n",
       "    <tr>\n",
       "      <th>301619</th>\n",
       "      <td>Какие положительные и отрицательные стороны уп...</td>\n",
       "      <td>Из положительного 1.возможность работать с неб...</td>\n",
       "    </tr>\n",
       "    <tr>\n",
       "      <th>126342</th>\n",
       "      <td>Кто такая крестная мать?</td>\n",
       "      <td>Крестная мать – это воцерковленная православна...</td>\n",
       "    </tr>\n",
       "    <tr>\n",
       "      <th>90792</th>\n",
       "      <td>Почему за границей (ПМЖ) время течет медленно,...</td>\n",
       "      <td>На самом деле время везде течет одинаково. Пос...</td>\n",
       "    </tr>\n",
       "    <tr>\n",
       "      <th>110597</th>\n",
       "      <td>Как поступить в НИУ ВШЭ?</td>\n",
       "      <td>Зависит от факультета. На большинстве схема по...</td>\n",
       "    </tr>\n",
       "  </tbody>\n",
       "</table>\n",
       "</div>"
      ],
      "text/plain": [
       "                                                 question  \\\n",
       "325781        Как оплатить налог на машину без квитанции?   \n",
       "301619  Какие положительные и отрицательные стороны уп...   \n",
       "126342                           Кто такая крестная мать?   \n",
       "90792   Почему за границей (ПМЖ) время течет медленно,...   \n",
       "110597                           Как поступить в НИУ ВШЭ?   \n",
       "\n",
       "                                                   answer  \n",
       "325781  Чтобы оплатить налог достаточно знать реквизит...  \n",
       "301619  Из положительного 1.возможность работать с неб...  \n",
       "126342  Крестная мать – это воцерковленная православна...  \n",
       "90792   На самом деле время везде течет одинаково. Пос...  \n",
       "110597  Зависит от факультета. На большинстве схема по...  "
      ]
     },
     "execution_count": 227,
     "metadata": {},
     "output_type": "execute_result"
    }
   ],
   "source": [
    "X_combined_valid_large = yandexq_df_remarked.loc[random_indices_valid_large]\n",
    "y_combined_valid_large = X_combined_valid_large[\"isMiracl\"]\n",
    "X_combined_valid_large = X_combined_valid_large.drop(columns=[\"isMiracl\"])\n",
    "\n",
    "X_combined_valid_large.head()"
   ]
  },
  {
   "cell_type": "code",
   "execution_count": 228,
   "id": "6f1fe0cf-ac8b-480d-bded-92cf3f6a81f3",
   "metadata": {},
   "outputs": [],
   "source": [
    "X_combined_valid_large['text'] = X_combined_valid_large['question'] + \" [SEP] \" + X_combined_valid_large['answer']\n",
    "X_combined_valid_large = X_combined_valid_large.drop([\"question\", \"answer\"], axis=1)"
   ]
  },
  {
   "cell_type": "code",
   "execution_count": null,
   "id": "f51f45e1-f6ef-46d2-9d34-c818371cf24f",
   "metadata": {},
   "outputs": [],
   "source": []
  },
  {
   "cell_type": "code",
   "execution_count": 241,
   "id": "49cf2de5-9dcf-4e7a-94c7-2c258e923f8f",
   "metadata": {},
   "outputs": [],
   "source": [
    "predictions_1_1 = []"
   ]
  },
  {
   "cell_type": "code",
   "execution_count": 242,
   "id": "f1044a6f-9dca-41a1-b204-8af163559156",
   "metadata": {},
   "outputs": [
    {
     "name": "stderr",
     "output_type": "stream",
     "text": [
      "100%|██████████████████████████████████████████████████████████████████████████| 169605/169605 [36:30<00:00, 77.42it/s]\n"
     ]
    }
   ],
   "source": [
    "for text in tqdm(X_combined_valid_large[\"text\"]):\n",
    "    qu = text.split(\"[SEP]\")[0]\n",
    "    an = text.split(\"[SEP]\")[1]\n",
    "    predictions_1_1.append(predict(qu, an, model, threshold=0.0005))"
   ]
  },
  {
   "cell_type": "code",
   "execution_count": 243,
   "id": "1bb674d8-42fa-44cc-b504-e087e5a5704c",
   "metadata": {},
   "outputs": [
    {
     "data": {
      "text/plain": [
       "0    157473\n",
       "1     12132\n",
       "Name: count, dtype: int64"
      ]
     },
     "execution_count": 243,
     "metadata": {},
     "output_type": "execute_result"
    }
   ],
   "source": [
    "predictions_1_1 = pd.Series(predictions_1_1)\n",
    "predictions_1_1.value_counts()"
   ]
  },
  {
   "cell_type": "code",
   "execution_count": null,
   "id": "a13f2c2f-e58b-44f3-a611-36972c63e0bb",
   "metadata": {},
   "outputs": [],
   "source": []
  },
  {
   "cell_type": "code",
   "execution_count": 245,
   "id": "4c13989a-0905-4eae-b3f5-7060fc5d6fa2",
   "metadata": {},
   "outputs": [],
   "source": [
    "ones_indices = random_indices_valid_large[predictions_1_1==1]"
   ]
  },
  {
   "cell_type": "code",
   "execution_count": 246,
   "id": "ba883b3a-ab9d-438e-9b23-498baf22646a",
   "metadata": {},
   "outputs": [],
   "source": [
    "yandexq_df_filtered = yandexq_df_prefiltered.loc[ones_indices]"
   ]
  },
  {
   "cell_type": "code",
   "execution_count": 248,
   "id": "696fc107-33ef-4b54-9965-ad90beab07e4",
   "metadata": {},
   "outputs": [],
   "source": [
    "yandexq_df_filtered = yandexq_df_filtered.drop(columns=[\"question_length\", \"answer_length\"])"
   ]
  },
  {
   "cell_type": "code",
   "execution_count": 249,
   "id": "76f9561f-ad90-4b1f-af75-bf66afd380f6",
   "metadata": {},
   "outputs": [
    {
     "data": {
      "text/html": [
       "<div>\n",
       "<style scoped>\n",
       "    .dataframe tbody tr th:only-of-type {\n",
       "        vertical-align: middle;\n",
       "    }\n",
       "\n",
       "    .dataframe tbody tr th {\n",
       "        vertical-align: top;\n",
       "    }\n",
       "\n",
       "    .dataframe thead th {\n",
       "        text-align: right;\n",
       "    }\n",
       "</style>\n",
       "<table border=\"1\" class=\"dataframe\">\n",
       "  <thead>\n",
       "    <tr style=\"text-align: right;\">\n",
       "      <th></th>\n",
       "      <th>question</th>\n",
       "      <th>answer</th>\n",
       "      <th>isRelevant</th>\n",
       "    </tr>\n",
       "  </thead>\n",
       "  <tbody>\n",
       "    <tr>\n",
       "      <th>126342</th>\n",
       "      <td>Кто такая крестная мать?</td>\n",
       "      <td>Крестная мать – это воцерковленная православна...</td>\n",
       "      <td>1</td>\n",
       "    </tr>\n",
       "    <tr>\n",
       "      <th>235178</th>\n",
       "      <td>Существует ли противоядие от отравления ядом р...</td>\n",
       "      <td>Нет, противоядия от тетродотоксина, которого п...</td>\n",
       "      <td>1</td>\n",
       "    </tr>\n",
       "    <tr>\n",
       "      <th>214199</th>\n",
       "      <td>Является ли энергетика прикладной физикой?</td>\n",
       "      <td>Энерге́тика — область хозяйственно-экономическ...</td>\n",
       "      <td>1</td>\n",
       "    </tr>\n",
       "    <tr>\n",
       "      <th>323040</th>\n",
       "      <td>Кто правил СССР после Сталина?</td>\n",
       "      <td>Сталин 1922–1953Маленков 1953–1955**Маленков Г...</td>\n",
       "      <td>1</td>\n",
       "    </tr>\n",
       "    <tr>\n",
       "      <th>298648</th>\n",
       "      <td>Как Армения побудила Турцию активизировать кон...</td>\n",
       "      <td>Никак, потому что если кто и побудил активизир...</td>\n",
       "      <td>1</td>\n",
       "    </tr>\n",
       "  </tbody>\n",
       "</table>\n",
       "</div>"
      ],
      "text/plain": [
       "                                                 question  \\\n",
       "126342                           Кто такая крестная мать?   \n",
       "235178  Существует ли противоядие от отравления ядом р...   \n",
       "214199         Является ли энергетика прикладной физикой?   \n",
       "323040                     Кто правил СССР после Сталина?   \n",
       "298648  Как Армения побудила Турцию активизировать кон...   \n",
       "\n",
       "                                                   answer  isRelevant  \n",
       "126342  Крестная мать – это воцерковленная православна...           1  \n",
       "235178  Нет, противоядия от тетродотоксина, которого п...           1  \n",
       "214199  Энерге́тика — область хозяйственно-экономическ...           1  \n",
       "323040  Сталин 1922–1953Маленков 1953–1955**Маленков Г...           1  \n",
       "298648  Никак, потому что если кто и побудил активизир...           1  "
      ]
     },
     "execution_count": 249,
     "metadata": {},
     "output_type": "execute_result"
    }
   ],
   "source": [
    "yandexq_df_filtered.head()"
   ]
  },
  {
   "cell_type": "code",
   "execution_count": 250,
   "id": "1b7fcef2-d8a4-4509-acb5-2194f8772bf1",
   "metadata": {},
   "outputs": [
    {
     "data": {
      "text/plain": [
       "(12132, 3)"
      ]
     },
     "execution_count": 250,
     "metadata": {},
     "output_type": "execute_result"
    }
   ],
   "source": [
    "yandexq_df_filtered.shape"
   ]
  },
  {
   "cell_type": "code",
   "execution_count": 251,
   "id": "af29251f-857f-44a4-b458-5d87bb47cbc7",
   "metadata": {},
   "outputs": [],
   "source": [
    "yandexq_df_filtered.to_csv(\"filtered_yandexq.csv\", index=False)"
   ]
  },
  {
   "cell_type": "code",
   "execution_count": null,
   "id": "a6c56079-2b59-46e6-baf6-7ca348534535",
   "metadata": {},
   "outputs": [],
   "source": []
  }
 ],
 "metadata": {
  "kernelspec": {
   "display_name": "Python 3 (ipykernel)",
   "language": "python",
   "name": "python3"
  },
  "language_info": {
   "codemirror_mode": {
    "name": "ipython",
    "version": 3
   },
   "file_extension": ".py",
   "mimetype": "text/x-python",
   "name": "python",
   "nbconvert_exporter": "python",
   "pygments_lexer": "ipython3",
   "version": "3.9.7"
  }
 },
 "nbformat": 4,
 "nbformat_minor": 5
}
